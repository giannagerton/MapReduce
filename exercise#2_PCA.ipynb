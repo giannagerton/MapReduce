{
 "cells": [
  {
   "cell_type": "code",
   "execution_count": 2,
   "metadata": {},
   "outputs": [
    {
     "name": "stdout",
     "output_type": "stream",
     "text": [
      "Matrix A:\n",
      "[[ 0.01159693 -0.03711848]\n",
      " [-0.15974645 -0.01829756]\n",
      " [-0.03816238 -0.11590198]]\n",
      "Rank of Matrix A:  2\n"
     ]
    }
   ],
   "source": [
    "import numpy as np\n",
    "\n",
    "A = np.zeros(shape=(3,2))\n",
    "mu, sigma = 0, 0.1 # mean and standard deviation\n",
    "for i in range(A.shape[0]):\n",
    "    for j in range(A.shape[1]):\n",
    "        A[i][j] = np.random.normal(mu, sigma, 1)\n",
    "print(\"Matrix A:\")\n",
    "print(A)\n",
    "print(\"Rank of Matrix A: \", np.linalg.matrix_rank(A))"
   ]
  },
  {
   "cell_type": "code",
   "execution_count": 3,
   "metadata": {
    "scrolled": true
   },
   "outputs": [
    {
     "name": "stdout",
     "output_type": "stream",
     "text": [
      "Shape of Matrix X:  (3, 500)\n",
      "Rank of Matrix X:  2\n"
     ]
    }
   ],
   "source": [
    "N = 500\n",
    "v = np.zeros(shape=(2,1))\n",
    "X = np.zeros(shape=(3,N))\n",
    "x = np.zeros(shape=(3,1))\n",
    "for i in range(N):\n",
    "    v[0] = np.random.normal(mu, sigma, 1)\n",
    "    v[1] = np.random.normal(mu, sigma, 1)\n",
    "    x = np.matmul(A, v)\n",
    "    X[0][i] = x[0]\n",
    "    X[1][i] = x[1]\n",
    "    X[2][i] = x[2]\n",
    "print(\"Shape of Matrix X: \", X.shape)\n",
    "print(\"Rank of Matrix X: \", np.linalg.matrix_rank(X))"
   ]
  },
  {
   "cell_type": "code",
   "execution_count": 17,
   "metadata": {},
   "outputs": [
    {
     "name": "stdout",
     "output_type": "stream",
     "text": [
      "Matrix s\n",
      "[  3.89583368e-01   2.48009255e-01   4.32091129e-17]\n",
      "Matrix v\n",
      "[  6.93889390e-18   6.15085903e-02   1.51775200e-01]\n"
     ]
    }
   ],
   "source": [
    "u, s, vT = np.linalg.svd(X)\n",
    "print(\"Matrix s\")\n",
    "print(s)\n",
    "# print(\"Matrix s\")\n",
    "# print(s.shape)\n",
    "# print(\"Matrix vT\")\n",
    "# print(vT.shape)\n",
    "XXT = np.matmul(X, X.transpose())\n",
    "w, v = np.linalg.eig(XXT)\n",
    "print(\"Matrix v\")\n",
    "print(w)"
   ]
  },
  {
   "cell_type": "code",
   "execution_count": null,
   "metadata": {
    "collapsed": true
   },
   "outputs": [],
   "source": []
  },
  {
   "cell_type": "code",
   "execution_count": null,
   "metadata": {
    "collapsed": true
   },
   "outputs": [],
   "source": []
  }
 ],
 "metadata": {
  "kernelspec": {
   "display_name": "Python 3",
   "language": "python",
   "name": "python3"
  },
  "language_info": {
   "codemirror_mode": {
    "name": "ipython",
    "version": 3
   },
   "file_extension": ".py",
   "mimetype": "text/x-python",
   "name": "python",
   "nbconvert_exporter": "python",
   "pygments_lexer": "ipython3",
   "version": "3.6.3"
  }
 },
 "nbformat": 4,
 "nbformat_minor": 2
}
